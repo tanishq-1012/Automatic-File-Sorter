{
 "cells": [
  {
   "cell_type": "code",
   "execution_count": 1,
   "id": "3c58c03a",
   "metadata": {},
   "outputs": [],
   "source": [
    "import os, shutil"
   ]
  },
  {
   "cell_type": "code",
   "execution_count": 15,
   "id": "f64a1c47",
   "metadata": {},
   "outputs": [],
   "source": [
    "path = r\"/Users/tanishqsharma/Desktop/Random Folder/\""
   ]
  },
  {
   "cell_type": "code",
   "execution_count": 26,
   "id": "ae805d5f",
   "metadata": {},
   "outputs": [],
   "source": [
    "file_name = os.listdir(path)"
   ]
  },
  {
   "cell_type": "code",
   "execution_count": 28,
   "id": "e96f7a5b",
   "metadata": {},
   "outputs": [
    {
     "name": "stdout",
     "output_type": "stream",
     "text": [
      "/Users/tanishqsharma/Desktop/Random Foldercsv files\n",
      "/Users/tanishqsharma/Desktop/Random Folderimage files\n",
      "/Users/tanishqsharma/Desktop/Random Folderxlsx files\n"
     ]
    }
   ],
   "source": [
    "folder_names = ['csv files','image files','xlsx files']\n",
    "\n",
    "for loop in range(0,3):\n",
    "    if not os.path.exists(path + folder_names[loop]):\n",
    "        print(path + folder_names[loop])\n",
    "        os.makedirs(path + folder_names[loop])"
   ]
  },
  {
   "cell_type": "code",
   "execution_count": 41,
   "id": "fbd49f40",
   "metadata": {},
   "outputs": [],
   "source": [
    "# Define the correct paths\n",
    "source_path = \"/Users/tanishqsharma/Desktop/Random Folder/\"\n",
    "destination_path = \"/Users/tanishqsharma/Desktop/Random Folder/csv files/\"\n",
    "\n",
    "source_path1 = \"/Users/tanishqsharma/Desktop/Random Folder/\"\n",
    "destination_path1 = \"/Users/tanishqsharma/Desktop/Random Folder/image files/\"\n",
    "\n",
    "source_path2 = \"/Users/tanishqsharma/Desktop/Random Folder/\"\n",
    "destination_path2 = \"/Users/tanishqsharma/Desktop/Random Folder/xlsx files/\"\n",
    "# Check if the destination folder exists, create it if not\n",
    "if not os.path.exists(destination_path):\n",
    "    os.makedirs(destination_path)\n",
    "\n",
    "# Iterate over the files and move the CSVs\n",
    "for file in file_name:\n",
    "    if \".csv\" in file and not os.path.exists(os.path.join(destination_path, file)):\n",
    "        shutil.move(os.path.join(source_path, file), os.path.join(destination_path, file))\n",
    "   \n",
    "    elif \".jpeg\" in file and not os.path.exists(os.path.join(destination_path1, file)):\n",
    "        shutil.move(os.path.join(source_path1, file), os.path.join(destination_path1, file))\n",
    "        \n",
    "    elif  \".xlsx\" in file and not os.path.exists(os.path.join(destination_path2, file)):\n",
    "        shutil.move(os.path.join(source_path2, file), os.path.join(destination_path2, file))\n",
    "    "
   ]
  },
  {
   "cell_type": "code",
   "execution_count": null,
   "id": "8c20f2ee",
   "metadata": {},
   "outputs": [],
   "source": []
  },
  {
   "cell_type": "code",
   "execution_count": null,
   "id": "c32a85b6",
   "metadata": {},
   "outputs": [],
   "source": []
  },
  {
   "cell_type": "code",
   "execution_count": null,
   "id": "d716a627",
   "metadata": {},
   "outputs": [],
   "source": []
  },
  {
   "cell_type": "code",
   "execution_count": null,
   "id": "1ac25cc7",
   "metadata": {},
   "outputs": [],
   "source": []
  },
  {
   "cell_type": "code",
   "execution_count": null,
   "id": "1683633e",
   "metadata": {},
   "outputs": [],
   "source": []
  },
  {
   "cell_type": "code",
   "execution_count": null,
   "id": "400f5ce8",
   "metadata": {},
   "outputs": [],
   "source": []
  },
  {
   "cell_type": "code",
   "execution_count": null,
   "id": "4973c0e5",
   "metadata": {},
   "outputs": [],
   "source": []
  },
  {
   "cell_type": "code",
   "execution_count": null,
   "id": "7be6e735",
   "metadata": {},
   "outputs": [],
   "source": []
  },
  {
   "cell_type": "code",
   "execution_count": null,
   "id": "63131e54",
   "metadata": {},
   "outputs": [],
   "source": []
  },
  {
   "cell_type": "code",
   "execution_count": null,
   "id": "3c0d3fc0",
   "metadata": {},
   "outputs": [],
   "source": []
  },
  {
   "cell_type": "code",
   "execution_count": null,
   "id": "005d9d5f",
   "metadata": {},
   "outputs": [],
   "source": []
  },
  {
   "cell_type": "code",
   "execution_count": null,
   "id": "f94e3461",
   "metadata": {},
   "outputs": [],
   "source": []
  },
  {
   "cell_type": "code",
   "execution_count": null,
   "id": "849c9c6a",
   "metadata": {},
   "outputs": [],
   "source": []
  },
  {
   "cell_type": "code",
   "execution_count": null,
   "id": "5c1c8713",
   "metadata": {},
   "outputs": [],
   "source": []
  },
  {
   "cell_type": "code",
   "execution_count": null,
   "id": "d61f9e4b",
   "metadata": {},
   "outputs": [],
   "source": []
  },
  {
   "cell_type": "code",
   "execution_count": null,
   "id": "46de62ca",
   "metadata": {},
   "outputs": [],
   "source": []
  }
 ],
 "metadata": {
  "kernelspec": {
   "display_name": "Python 3 (ipykernel)",
   "language": "python",
   "name": "python3"
  },
  "language_info": {
   "codemirror_mode": {
    "name": "ipython",
    "version": 3
   },
   "file_extension": ".py",
   "mimetype": "text/x-python",
   "name": "python",
   "nbconvert_exporter": "python",
   "pygments_lexer": "ipython3",
   "version": "3.7.3"
  }
 },
 "nbformat": 4,
 "nbformat_minor": 5
}
